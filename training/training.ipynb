{
 "cells": [
  {
   "cell_type": "code",
   "id": "initial_id",
   "metadata": {
    "collapsed": true,
    "ExecuteTime": {
     "end_time": "2025-07-26T15:46:39.731305Z",
     "start_time": "2025-07-26T15:46:39.710520Z"
    }
   },
   "source": [
    "import pandas as pd\n",
    "df = pd.read_csv('dataset/synthetic_logs.csv')\n",
    "df.head()"
   ],
   "outputs": [
    {
     "data": {
      "text/plain": [
       "             timestamp           source  \\\n",
       "0  2025-06-27 07:20:25        ModernCRM   \n",
       "1      1/14/2025 23:07        ModernCRM   \n",
       "2       1/17/2025 1:29  AnalyticsEngine   \n",
       "3  2025-07-12 00:24:16         ModernHR   \n",
       "4  2025-06-02 18:25:23    BillingSystem   \n",
       "\n",
       "                                         log_message    target_label  \\\n",
       "0  nova.osapi_compute.wsgi.server [req-b9718cd8-f...     HTTP Status   \n",
       "1     Email service experiencing issues with sending  Critical Error   \n",
       "2          Unauthorized access to data was attempted  Security Alert   \n",
       "3  nova.osapi_compute.wsgi.server [req-4895c258-b...     HTTP Status   \n",
       "4  nova.osapi_compute.wsgi.server [req-ee8bc8ba-9...     HTTP Status   \n",
       "\n",
       "  complexity  \n",
       "0       bert  \n",
       "1       bert  \n",
       "2       bert  \n",
       "3       bert  \n",
       "4       bert  "
      ],
      "text/html": [
       "<div>\n",
       "<style scoped>\n",
       "    .dataframe tbody tr th:only-of-type {\n",
       "        vertical-align: middle;\n",
       "    }\n",
       "\n",
       "    .dataframe tbody tr th {\n",
       "        vertical-align: top;\n",
       "    }\n",
       "\n",
       "    .dataframe thead th {\n",
       "        text-align: right;\n",
       "    }\n",
       "</style>\n",
       "<table border=\"1\" class=\"dataframe\">\n",
       "  <thead>\n",
       "    <tr style=\"text-align: right;\">\n",
       "      <th></th>\n",
       "      <th>timestamp</th>\n",
       "      <th>source</th>\n",
       "      <th>log_message</th>\n",
       "      <th>target_label</th>\n",
       "      <th>complexity</th>\n",
       "    </tr>\n",
       "  </thead>\n",
       "  <tbody>\n",
       "    <tr>\n",
       "      <th>0</th>\n",
       "      <td>2025-06-27 07:20:25</td>\n",
       "      <td>ModernCRM</td>\n",
       "      <td>nova.osapi_compute.wsgi.server [req-b9718cd8-f...</td>\n",
       "      <td>HTTP Status</td>\n",
       "      <td>bert</td>\n",
       "    </tr>\n",
       "    <tr>\n",
       "      <th>1</th>\n",
       "      <td>1/14/2025 23:07</td>\n",
       "      <td>ModernCRM</td>\n",
       "      <td>Email service experiencing issues with sending</td>\n",
       "      <td>Critical Error</td>\n",
       "      <td>bert</td>\n",
       "    </tr>\n",
       "    <tr>\n",
       "      <th>2</th>\n",
       "      <td>1/17/2025 1:29</td>\n",
       "      <td>AnalyticsEngine</td>\n",
       "      <td>Unauthorized access to data was attempted</td>\n",
       "      <td>Security Alert</td>\n",
       "      <td>bert</td>\n",
       "    </tr>\n",
       "    <tr>\n",
       "      <th>3</th>\n",
       "      <td>2025-07-12 00:24:16</td>\n",
       "      <td>ModernHR</td>\n",
       "      <td>nova.osapi_compute.wsgi.server [req-4895c258-b...</td>\n",
       "      <td>HTTP Status</td>\n",
       "      <td>bert</td>\n",
       "    </tr>\n",
       "    <tr>\n",
       "      <th>4</th>\n",
       "      <td>2025-06-02 18:25:23</td>\n",
       "      <td>BillingSystem</td>\n",
       "      <td>nova.osapi_compute.wsgi.server [req-ee8bc8ba-9...</td>\n",
       "      <td>HTTP Status</td>\n",
       "      <td>bert</td>\n",
       "    </tr>\n",
       "  </tbody>\n",
       "</table>\n",
       "</div>"
      ]
     },
     "execution_count": 21,
     "metadata": {},
     "output_type": "execute_result"
    }
   ],
   "execution_count": 21
  },
  {
   "metadata": {
    "ExecuteTime": {
     "end_time": "2025-07-26T15:17:41.800087Z",
     "start_time": "2025-07-26T15:17:41.795844Z"
    }
   },
   "cell_type": "code",
   "source": "df.source.unique()",
   "id": "8dbc4dc43bb147f9",
   "outputs": [
    {
     "data": {
      "text/plain": [
       "array(['ModernCRM', 'AnalyticsEngine', 'ModernHR', 'BillingSystem',\n",
       "       'ThirdPartyAPI', 'LegacyCRM'], dtype=object)"
      ]
     },
     "execution_count": 3,
     "metadata": {},
     "output_type": "execute_result"
    }
   ],
   "execution_count": 3
  },
  {
   "metadata": {
    "ExecuteTime": {
     "end_time": "2025-07-26T15:48:04.746923Z",
     "start_time": "2025-07-26T15:48:04.741795Z"
    }
   },
   "cell_type": "code",
   "source": "df.target_label.unique()",
   "id": "fa1ae129c82ac17d",
   "outputs": [
    {
     "data": {
      "text/plain": [
       "array(['HTTP Status', 'Critical Error', 'Security Alert', 'Error',\n",
       "       'System Notification', 'Resource Usage', 'User Action',\n",
       "       'Workflow Error', 'Deprecation Warning'], dtype=object)"
      ]
     },
     "execution_count": 22,
     "metadata": {},
     "output_type": "execute_result"
    }
   ],
   "execution_count": 22
  },
  {
   "metadata": {
    "ExecuteTime": {
     "end_time": "2025-07-26T15:48:54.792088Z",
     "start_time": "2025-07-26T15:48:48.763662Z"
    }
   },
   "cell_type": "code",
   "source": [
    "from sklearn.cluster import DBSCAN\n",
    "from sentence_transformers import SentenceTransformer\n",
    "\n",
    "model = SentenceTransformer('all-MiniLM-L6-v2')  # Lightweight embedding model\n",
    "embeddings = model.encode(df['log_message'].tolist())\n",
    "\n",
    "clustering = DBSCAN(eps=0.2, min_samples=1, metric='cosine').fit(embeddings)\n",
    "df['cluster'] = clustering.labels_\n"
   ],
   "id": "7555873d3446d975",
   "outputs": [
    {
     "name": "stderr",
     "output_type": "stream",
     "text": [
      "/Users/tanmaysonje/Library/Python/3.9/lib/python/site-packages/torch/nn/modules/module.py:1750: FutureWarning: `encoder_attention_mask` is deprecated and will be removed in version 4.55.0 for `BertSdpaSelfAttention.forward`.\n",
      "  return forward_call(*args, **kwargs)\n"
     ]
    }
   ],
   "execution_count": 24
  },
  {
   "metadata": {
    "ExecuteTime": {
     "end_time": "2025-07-26T15:49:01.131344Z",
     "start_time": "2025-07-26T15:49:01.123586Z"
    }
   },
   "cell_type": "code",
   "source": "df.head()",
   "id": "77814bcfaead1698",
   "outputs": [
    {
     "data": {
      "text/plain": [
       "             timestamp           source  \\\n",
       "0  2025-06-27 07:20:25        ModernCRM   \n",
       "1      1/14/2025 23:07        ModernCRM   \n",
       "2       1/17/2025 1:29  AnalyticsEngine   \n",
       "3  2025-07-12 00:24:16         ModernHR   \n",
       "4  2025-06-02 18:25:23    BillingSystem   \n",
       "\n",
       "                                         log_message    target_label  \\\n",
       "0  nova.osapi_compute.wsgi.server [req-b9718cd8-f...     HTTP Status   \n",
       "1     Email service experiencing issues with sending  Critical Error   \n",
       "2          Unauthorized access to data was attempted  Security Alert   \n",
       "3  nova.osapi_compute.wsgi.server [req-4895c258-b...     HTTP Status   \n",
       "4  nova.osapi_compute.wsgi.server [req-ee8bc8ba-9...     HTTP Status   \n",
       "\n",
       "  complexity  cluster  \n",
       "0       bert        0  \n",
       "1       bert        1  \n",
       "2       bert        2  \n",
       "3       bert        0  \n",
       "4       bert        0  "
      ],
      "text/html": [
       "<div>\n",
       "<style scoped>\n",
       "    .dataframe tbody tr th:only-of-type {\n",
       "        vertical-align: middle;\n",
       "    }\n",
       "\n",
       "    .dataframe tbody tr th {\n",
       "        vertical-align: top;\n",
       "    }\n",
       "\n",
       "    .dataframe thead th {\n",
       "        text-align: right;\n",
       "    }\n",
       "</style>\n",
       "<table border=\"1\" class=\"dataframe\">\n",
       "  <thead>\n",
       "    <tr style=\"text-align: right;\">\n",
       "      <th></th>\n",
       "      <th>timestamp</th>\n",
       "      <th>source</th>\n",
       "      <th>log_message</th>\n",
       "      <th>target_label</th>\n",
       "      <th>complexity</th>\n",
       "      <th>cluster</th>\n",
       "    </tr>\n",
       "  </thead>\n",
       "  <tbody>\n",
       "    <tr>\n",
       "      <th>0</th>\n",
       "      <td>2025-06-27 07:20:25</td>\n",
       "      <td>ModernCRM</td>\n",
       "      <td>nova.osapi_compute.wsgi.server [req-b9718cd8-f...</td>\n",
       "      <td>HTTP Status</td>\n",
       "      <td>bert</td>\n",
       "      <td>0</td>\n",
       "    </tr>\n",
       "    <tr>\n",
       "      <th>1</th>\n",
       "      <td>1/14/2025 23:07</td>\n",
       "      <td>ModernCRM</td>\n",
       "      <td>Email service experiencing issues with sending</td>\n",
       "      <td>Critical Error</td>\n",
       "      <td>bert</td>\n",
       "      <td>1</td>\n",
       "    </tr>\n",
       "    <tr>\n",
       "      <th>2</th>\n",
       "      <td>1/17/2025 1:29</td>\n",
       "      <td>AnalyticsEngine</td>\n",
       "      <td>Unauthorized access to data was attempted</td>\n",
       "      <td>Security Alert</td>\n",
       "      <td>bert</td>\n",
       "      <td>2</td>\n",
       "    </tr>\n",
       "    <tr>\n",
       "      <th>3</th>\n",
       "      <td>2025-07-12 00:24:16</td>\n",
       "      <td>ModernHR</td>\n",
       "      <td>nova.osapi_compute.wsgi.server [req-4895c258-b...</td>\n",
       "      <td>HTTP Status</td>\n",
       "      <td>bert</td>\n",
       "      <td>0</td>\n",
       "    </tr>\n",
       "    <tr>\n",
       "      <th>4</th>\n",
       "      <td>2025-06-02 18:25:23</td>\n",
       "      <td>BillingSystem</td>\n",
       "      <td>nova.osapi_compute.wsgi.server [req-ee8bc8ba-9...</td>\n",
       "      <td>HTTP Status</td>\n",
       "      <td>bert</td>\n",
       "      <td>0</td>\n",
       "    </tr>\n",
       "  </tbody>\n",
       "</table>\n",
       "</div>"
      ]
     },
     "execution_count": 25,
     "metadata": {},
     "output_type": "execute_result"
    }
   ],
   "execution_count": 25
  },
  {
   "metadata": {
    "ExecuteTime": {
     "end_time": "2025-07-26T15:49:33.641530Z",
     "start_time": "2025-07-26T15:49:33.629109Z"
    }
   },
   "cell_type": "code",
   "source": [
    "clusters = df.groupby('cluster')['log_message'].apply(list)\n",
    "sorted_clusters = clusters.sort_values(key=lambda x: x.map(len), ascending=False)"
   ],
   "id": "1e001412e61c6d4b",
   "outputs": [],
   "execution_count": 26
  },
  {
   "metadata": {
    "ExecuteTime": {
     "end_time": "2025-07-26T15:49:51.459114Z",
     "start_time": "2025-07-26T15:49:51.454023Z"
    }
   },
   "cell_type": "code",
   "source": [
    "print(\"Clustered Patterns:\")\n",
    "for cluster_id, messages in sorted_clusters.items():\n",
    "    if len(messages) > 10:\n",
    "        print(f\"Cluster {cluster_id}:\")\n",
    "        for msg in messages[:5]:\n",
    "            print(f\"  {msg}\")"
   ],
   "id": "e33a618f23d60495",
   "outputs": [
    {
     "name": "stdout",
     "output_type": "stream",
     "text": [
      "Clustered Patterns:\n",
      "Cluster 0:\n",
      "  nova.osapi_compute.wsgi.server [req-b9718cd8-f65e-49cc-8349-6cf7122af137 113d3a99c3da401fbd62cc2caa5b96d2 54fadb412c4e40cdbaed9335e4c35a9e - - -] 10.11.10.1 \"GET /v2/54fadb412c4e40cdbaed9335e4c35a9e/servers/detail HTTP/1.1\" status: 200 len: 1893 time: 0.2675118\n",
      "  nova.osapi_compute.wsgi.server [req-4895c258-b2f8-488f-a2a3-4fae63982e48 113d3a99c3da401fbd62cc2caa5b96d2 54fadb412c4e40cdbaed9335e4c35a9e - - -] 10.11.10.1 \"GET /v2/54fadb412c4e40cdbaed9335e4c35a9e/servers/detail HTTP/1.1\" HTTP status code -  200 len: 211 time: 0.0968180\n",
      "  nova.osapi_compute.wsgi.server [req-ee8bc8ba-9265-4280-9215-dbe000a41209 113d3a99c3da401fbd62cc2caa5b96d2 54fadb412c4e40cdbaed9335e4c35a9e - - -] 10.11.10.1 \"GET /v2/54fadb412c4e40cdbaed9335e4c35a9e/servers/detail HTTP/1.1\" RCODE  200 len: 1874 time: 0.2280791\n",
      "  nova.osapi_compute.wsgi.server [req-f0bffbc3-5ab0-4916-91c1-0a61dd7d4ec2 113d3a99c3da401fbd62cc2caa5b96d2 54fadb412c4e40cdbaed9335e4c35a9e - - -] 10.11.10.1 \"GET /v2/54fadb412c4e40cdbaed9335e4c35a9e/servers/detail HTTP/1.1\" Return code: 200 len: 1874 time: 0.2131531\n",
      "  nova.osapi_compute.wsgi.server [req-2bf7cfee-a236-42f3-8fb1-96fefab0b302 113d3a99c3da401fbd62cc2caa5b96d2 54fadb412c4e40cdbaed9335e4c35a9e - - -] 10.11.10.1 \"GET /v2/54fadb412c4e40cdbaed9335e4c35a9e/servers/detail HTTP/1.1\" RCODE  200 len: 1874 time: 0.1794369\n",
      "Cluster 5:\n",
      "  nova.compute.claims [req-a07ac654-8e81-416d-bfbb-189116b07969 113d3a99c3da401fbd62cc2caa5b96d2 54fadb412c4e40cdbaed9335e4c35a9e - - -] [instance: bf8c824d-f099-4433-a41e-e3da7578262e] Total memory: 64172 MB, used: 512.00 MB\n",
      "  nova.compute.claims [req-d6986b54-3735-4a42-9074-0ba7d9717de9 113d3a99c3da401fbd62cc2caa5b96d2 54fadb412c4e40cdbaed9335e4c35a9e - - -] [instance: af5f7392-f7d4-4298-b647-c98924c64aa1] memory limit: 96258.00 MB, free: 95746.00 MB\n",
      "  nova.compute.claims [req-72b4858f-049e-49e1-b31e-b562c5018eaf 113d3a99c3da401fbd62cc2caa5b96d2 54fadb412c4e40cdbaed9335e4c35a9e - - -] [instance: 63a0d960-70b6-44c6-b606-491478a5cadf] disk limit not specified, defaulting to unlimited\n",
      "  nova.compute.claims [req-5c8f52bd-8e3c-41f0-95a5-7861d247cafa 113d3a99c3da401fbd62cc2caa5b96d2 54fadb412c4e40cdbaed9335e4c35a9e - - -] [instance: d96a117b-0193-4549-bdcc-63b917273d1d] vcpu limit not specified, defaulting to unlimited\n",
      "  nova.compute.claims [req-d38f479d-9bb9-4276-9688-52607e8fd350 113d3a99c3da401fbd62cc2caa5b96d2 54fadb412c4e40cdbaed9335e4c35a9e - - -] [instance: 95960536-049b-41f6-9049-05fc479b6a7c] disk limit not specified, defaulting to unlimited\n",
      "Cluster 11:\n",
      "  User User685 logged out.\n",
      "  User User395 logged in.\n",
      "  User User225 logged in.\n",
      "  User User494 logged out.\n",
      "  User User900 logged in.\n",
      "Cluster 13:\n",
      "  Backup started at 2025-05-14 07:06:55.\n",
      "  Backup started at 2025-02-15 20:00:19.\n",
      "  Backup ended at 2025-08-08 13:06:23.\n",
      "  Backup started at 2025-11-14 08:27:43.\n",
      "  Backup started at 2025-12-09 10:19:11.\n",
      "Cluster 7:\n",
      "  Multiple bad login attempts detected on user 8538 account\n",
      "  Multiple login failures occurred on user 9052 account\n",
      "  User 7153 made multiple incorrect login attempts\n",
      "  User 8300 made multiple incorrect login attempts\n",
      "  Multiple login failures were detected for user 6373\n",
      "Cluster 8:\n",
      "  Backup completed successfully.\n",
      "  Backup completed successfully.\n",
      "  Backup completed successfully.\n",
      "  Backup completed successfully.\n",
      "  Backup completed successfully.\n",
      "Cluster 21:\n",
      "  System updated to version 3.9.1.\n",
      "  System updated to version 5.5.4.\n",
      "  System updated to version 4.7.4.\n",
      "  System updated to version 3.7.7.\n",
      "  System updated to version 2.6.2.\n",
      "Cluster 3:\n",
      "  Shard 6 replication task ended in failure\n",
      "  Data replication task for shard 14 did not complete\n",
      "  Data replication task failed for shard 17\n",
      "  Replication of data to shard 14 failed\n",
      "  Data replication task for shard 6 did not complete\n",
      "Cluster 4:\n",
      "  File data_6169.csv uploaded successfully by user User953.\n",
      "  File data_3847.csv uploaded successfully by user User175.\n",
      "  File data_7366.csv uploaded successfully by user User282.\n",
      "  File data_1206.csv uploaded successfully by user User359.\n",
      "  File data_1503.csv uploaded successfully by user User151.\n",
      "Cluster 17:\n",
      "  Denied access attempt on restricted account Account2682\n",
      "  Unauthorized login attempt on protected account Account5030\n",
      "  Account Account9437 blocked due to failed login\n",
      "  Account Account7999 access denied due to login failure\n",
      "  Invalid login attempt made on secured account Account7864\n",
      "Cluster 32:\n",
      "  Disk cleanup completed successfully.\n",
      "  Disk cleanup completed successfully.\n",
      "  Disk cleanup completed successfully.\n",
      "  Disk cleanup completed successfully.\n",
      "  Disk cleanup completed successfully.\n",
      "Cluster 6:\n",
      "  Critical system unit error: unit ID Component55\n",
      "  System component malfunction: component ID Component79\n",
      "  Critical system element is down: element ID Component96\n",
      "  Essential system part malfunction: part ID Component6\n",
      "  Failure occurred in critical system component: component ID Component92\n",
      "Cluster 16:\n",
      "  System reboot initiated by user User243.\n",
      "  System reboot initiated by user User471.\n",
      "  System reboot initiated by user User216.\n",
      "  System reboot initiated by user User639.\n",
      "  System reboot initiated by user User819.\n",
      "Cluster 20:\n",
      "  User 7662 tried to bypass API security measures\n",
      "  User 2367 failed to provide valid API access credentials\n",
      "  User 3569 made an unauthorized API request\n",
      "  Unauthorized user 2968 tried to access restricted API\n",
      "  User 2186 attempted to access API without proper authorization\n",
      "Cluster 9:\n",
      "  Account with ID 5351 created by User634.\n",
      "  Account with ID 7813 created by User373.\n",
      "  Account with ID 9827 created by User965.\n",
      "  Account with ID 2520 created by User546.\n",
      "  Account with ID 2300 created by User964.\n",
      "Cluster 1:\n",
      "  Email service experiencing issues with sending\n",
      "  Email server encountered a sending fault\n",
      "  Mail service encountered a delivery glitch\n",
      "  Service disruption caused by email sending error\n",
      "  Email system had a problem sending emails\n",
      "Cluster 10:\n",
      "  nova.compute.resource_tracker [req-addc1839-2ed5-4778-b57e-5854eb7b8b09 - - - - -] Final resource view: name=cp-1.slowvm1.tcloud-pg0.utah.cloudlab.us phys_ram=64172MB used_ram=512MB phys_disk=15GB used_disk=0GB total_vcpus=16 used_vcpus=0 pci_stats=[]\n",
      "  nova.compute.resource_tracker [req-addc1839-2ed5-4778-b57e-5854eb7b8b09 - - - - -] Final resource view: name=cp-1.slowvm1.tcloud-pg0.utah.cloudlab.us phys_ram=64172MB used_ram=2560MB phys_disk=15GB used_disk=20GB total_vcpus=16 used_vcpus=1 pci_stats=[]\n",
      "  nova.compute.resource_tracker [req-addc1839-2ed5-4778-b57e-5854eb7b8b09 - - - - -] Total usable vcpus: 16, total allocated vcpus: 0\n",
      "  nova.compute.resource_tracker [req-addc1839-2ed5-4778-b57e-5854eb7b8b09 - - - - -] Final resource view: name=cp-1.slowvm1.tcloud-pg0.utah.cloudlab.us phys_ram=64172MB used_ram=2560MB phys_disk=15GB used_disk=20GB total_vcpus=16 used_vcpus=1 pci_stats=[]\n",
      "  nova.compute.resource_tracker [req-addc1839-2ed5-4778-b57e-5854eb7b8b09 - - - - -] Final resource view: name=cp-1.slowvm1.tcloud-pg0.utah.cloudlab.us phys_ram=64172MB used_ram=2560MB phys_disk=15GB used_disk=20GB total_vcpus=16 used_vcpus=1 pci_stats=[]\n",
      "Cluster 34:\n",
      "  Abnormal behavior found on server 10, possible security threat\n",
      "  Security alert: suspicious activity on server 1\n",
      "  Anomalous activity identified on server 23, security review recommended\n",
      "  Server 27 experienced potential security incident, review required\n",
      "  Server 36 experienced potential security incident, review required\n",
      "Cluster 14:\n",
      "  Detection of multiple disk faults in RAID setup\n",
      "  RAID array suffered multiple hard drive failures\n",
      "  RAID array experienced multiple disk crashes\n",
      "  Multiple hard drive issues in RAID configuration found\n",
      "  Identification of multiple faulty disks in RAID array\n",
      "Cluster 53:\n",
      "  Module X experienced an invalid data format issue\n",
      "  Input format mismatch occurred in module X\n",
      "  Module X reported an error in input format validation\n",
      "  Module X failed to process input due to formatting error\n",
      "  Input data format in module X was invalid or corrupted\n",
      "Cluster 52:\n",
      "  Service health check was not successful because of SSL certificate validation failures.\n",
      "  Invalid SSL certificate resulted in a failed service health check.\n",
      "  Service health check failure was due to an invalid or improperly configured SSL certificate.\n",
      "  An issue with the SSL certificate caused the service health check to fail.\n",
      "  Service health check failure was caused by an expired SSL certificate.\n",
      "Cluster 18:\n",
      "  Boot process terminated unexpectedly due to kernel issue\n",
      "  System encountered kernel panic during initialization phase\n",
      "  Boot process was stopped by kernel malfunction\n",
      "  System encountered kernel failure during bootup sequence\n",
      "  Boot sequence failed due to kernel panic\n",
      "Cluster 25:\n",
      "  System configuration is no longer valid\n",
      "  Configuration is corrupted throughout the system\n",
      "  Cross-system configuration failure occurred\n",
      "  System configuration is experiencing errors\n",
      "  Configuration malfunction is system-wide\n",
      "Cluster 42:\n",
      "  User 5127 has escalated admin privileges without authorization\n",
      "  User 9745 has escalated to admin level\n",
      "  User 8483 escalated privileges to admin level\n",
      "  User 1987 has escalated to admin level\n",
      "  User 8395 escalated privileges to admin level\n",
      "Cluster 59:\n",
      "  Potential security threat: Admin privilege escalation for user 5130\n",
      "  Admin privilege escalation alert for user 2893\n",
      "  Admin privilege escalation alert for user 8532\n",
      "  Potential security threat: Admin privilege escalation for user 1554\n",
      "  Warning: Potential admin privilege escalation for user 5720\n",
      "Cluster 26:\n",
      "  Privilege elevation detected for user 5038\n",
      "  Elevation of admin privileges detected for user 6137\n",
      "  Elevation of admin privileges detected for user 4907\n",
      "  User 6069 has been granted elevated admin privileges\n",
      "  Admin privilege elevation warning for user 7574\n"
     ]
    }
   ],
   "execution_count": 27
  },
  {
   "metadata": {
    "ExecuteTime": {
     "end_time": "2025-07-26T15:50:18.099545Z",
     "start_time": "2025-07-26T15:50:18.093330Z"
    }
   },
   "cell_type": "code",
   "source": [
    "import re\n",
    "def classify_with_regex(log_message):\n",
    "    regex_patterns = {\n",
    "        r\"User User\\d+ logged (in|out).\": \"User Action\",\n",
    "        r\"Backup (started|ended) at .*\": \"System Notification\",\n",
    "        r\"Backup completed successfully.\": \"System Notification\",\n",
    "        r\"System updated to version .*\": \"System Notification\",\n",
    "        r\"File .* uploaded successfully by user .*\": \"System Notification\",\n",
    "        r\"Disk cleanup completed successfully.\": \"System Notification\",\n",
    "        r\"System reboot initiated by user .*\": \"System Notification\",\n",
    "        r\"Account with ID .* created by .*\": \"User Action\"\n",
    "    }\n",
    "    for pattern, label in regex_patterns.items():\n",
    "        if re.search(pattern, log_message):\n",
    "            return label\n",
    "    return None"
   ],
   "id": "1d6a6ca1a4ec389",
   "outputs": [],
   "execution_count": 28
  },
  {
   "metadata": {
    "ExecuteTime": {
     "end_time": "2025-07-26T15:50:27.413500Z",
     "start_time": "2025-07-26T15:50:27.409117Z"
    }
   },
   "cell_type": "code",
   "source": "classify_with_regex(\"User User876 logged in.\")",
   "id": "43ccdea7b8286c2c",
   "outputs": [
    {
     "data": {
      "text/plain": [
       "'User Action'"
      ]
     },
     "execution_count": 30,
     "metadata": {},
     "output_type": "execute_result"
    }
   ],
   "execution_count": 30
  },
  {
   "metadata": {
    "ExecuteTime": {
     "end_time": "2025-07-26T15:52:21.546202Z",
     "start_time": "2025-07-26T15:52:21.535088Z"
    }
   },
   "cell_type": "code",
   "source": [
    "# Apply regex classification\n",
    "df['regex_label'] = df['log_message'].apply(lambda x: classify_with_regex(x))\n",
    "df[df['regex_label'].notnull()].shape"
   ],
   "id": "2e49602d6a7c3319",
   "outputs": [
    {
     "data": {
      "text/plain": [
       "(500, 7)"
      ]
     },
     "execution_count": 34,
     "metadata": {},
     "output_type": "execute_result"
    }
   ],
   "execution_count": 34
  },
  {
   "metadata": {
    "ExecuteTime": {
     "end_time": "2025-07-26T15:53:28.946475Z",
     "start_time": "2025-07-26T15:53:28.931116Z"
    }
   },
   "cell_type": "code",
   "source": [
    "df_non_regex = df[df['regex_label'].isnull()].copy()\n",
    "df_non_regex"
   ],
   "id": "fab483ee603ef20",
   "outputs": [
    {
     "data": {
      "text/plain": [
       "                timestamp           source  \\\n",
       "0     2025-06-27 07:20:25        ModernCRM   \n",
       "1         1/14/2025 23:07        ModernCRM   \n",
       "2          1/17/2025 1:29  AnalyticsEngine   \n",
       "3     2025-07-12 00:24:16         ModernHR   \n",
       "4     2025-06-02 18:25:23    BillingSystem   \n",
       "...                   ...              ...   \n",
       "2405  2025-08-13 07:29:25         ModernHR   \n",
       "2406       1/11/2025 5:32         ModernHR   \n",
       "2407  2025-08-03 03:07:47    ThirdPartyAPI   \n",
       "2408     11/11/2025 11:52    BillingSystem   \n",
       "2409     12/25/2025 13:21  AnalyticsEngine   \n",
       "\n",
       "                                            log_message    target_label  \\\n",
       "0     nova.osapi_compute.wsgi.server [req-b9718cd8-f...     HTTP Status   \n",
       "1        Email service experiencing issues with sending  Critical Error   \n",
       "2             Unauthorized access to data was attempted  Security Alert   \n",
       "3     nova.osapi_compute.wsgi.server [req-4895c258-b...     HTTP Status   \n",
       "4     nova.osapi_compute.wsgi.server [req-ee8bc8ba-9...     HTTP Status   \n",
       "...                                                 ...             ...   \n",
       "2405  nova.osapi_compute.wsgi.server [req-96c3ec98-2...     HTTP Status   \n",
       "2406  User 3844 account experienced multiple failed ...  Security Alert   \n",
       "2407  nova.metadata.wsgi.server [req-b6d4a270-accb-4...     HTTP Status   \n",
       "2408      Email service affected by failed transmission  Critical Error   \n",
       "2409  Repeated failed login attempts occurred for us...  Security Alert   \n",
       "\n",
       "     complexity  cluster regex_label  \n",
       "0          bert        0        None  \n",
       "1          bert        1        None  \n",
       "2          bert        2        None  \n",
       "3          bert        0        None  \n",
       "4          bert        0        None  \n",
       "...         ...      ...         ...  \n",
       "2405       bert        0        None  \n",
       "2406       bert        7        None  \n",
       "2407       bert        0        None  \n",
       "2408       bert        1        None  \n",
       "2409       bert        7        None  \n",
       "\n",
       "[1910 rows x 7 columns]"
      ],
      "text/html": [
       "<div>\n",
       "<style scoped>\n",
       "    .dataframe tbody tr th:only-of-type {\n",
       "        vertical-align: middle;\n",
       "    }\n",
       "\n",
       "    .dataframe tbody tr th {\n",
       "        vertical-align: top;\n",
       "    }\n",
       "\n",
       "    .dataframe thead th {\n",
       "        text-align: right;\n",
       "    }\n",
       "</style>\n",
       "<table border=\"1\" class=\"dataframe\">\n",
       "  <thead>\n",
       "    <tr style=\"text-align: right;\">\n",
       "      <th></th>\n",
       "      <th>timestamp</th>\n",
       "      <th>source</th>\n",
       "      <th>log_message</th>\n",
       "      <th>target_label</th>\n",
       "      <th>complexity</th>\n",
       "      <th>cluster</th>\n",
       "      <th>regex_label</th>\n",
       "    </tr>\n",
       "  </thead>\n",
       "  <tbody>\n",
       "    <tr>\n",
       "      <th>0</th>\n",
       "      <td>2025-06-27 07:20:25</td>\n",
       "      <td>ModernCRM</td>\n",
       "      <td>nova.osapi_compute.wsgi.server [req-b9718cd8-f...</td>\n",
       "      <td>HTTP Status</td>\n",
       "      <td>bert</td>\n",
       "      <td>0</td>\n",
       "      <td>None</td>\n",
       "    </tr>\n",
       "    <tr>\n",
       "      <th>1</th>\n",
       "      <td>1/14/2025 23:07</td>\n",
       "      <td>ModernCRM</td>\n",
       "      <td>Email service experiencing issues with sending</td>\n",
       "      <td>Critical Error</td>\n",
       "      <td>bert</td>\n",
       "      <td>1</td>\n",
       "      <td>None</td>\n",
       "    </tr>\n",
       "    <tr>\n",
       "      <th>2</th>\n",
       "      <td>1/17/2025 1:29</td>\n",
       "      <td>AnalyticsEngine</td>\n",
       "      <td>Unauthorized access to data was attempted</td>\n",
       "      <td>Security Alert</td>\n",
       "      <td>bert</td>\n",
       "      <td>2</td>\n",
       "      <td>None</td>\n",
       "    </tr>\n",
       "    <tr>\n",
       "      <th>3</th>\n",
       "      <td>2025-07-12 00:24:16</td>\n",
       "      <td>ModernHR</td>\n",
       "      <td>nova.osapi_compute.wsgi.server [req-4895c258-b...</td>\n",
       "      <td>HTTP Status</td>\n",
       "      <td>bert</td>\n",
       "      <td>0</td>\n",
       "      <td>None</td>\n",
       "    </tr>\n",
       "    <tr>\n",
       "      <th>4</th>\n",
       "      <td>2025-06-02 18:25:23</td>\n",
       "      <td>BillingSystem</td>\n",
       "      <td>nova.osapi_compute.wsgi.server [req-ee8bc8ba-9...</td>\n",
       "      <td>HTTP Status</td>\n",
       "      <td>bert</td>\n",
       "      <td>0</td>\n",
       "      <td>None</td>\n",
       "    </tr>\n",
       "    <tr>\n",
       "      <th>...</th>\n",
       "      <td>...</td>\n",
       "      <td>...</td>\n",
       "      <td>...</td>\n",
       "      <td>...</td>\n",
       "      <td>...</td>\n",
       "      <td>...</td>\n",
       "      <td>...</td>\n",
       "    </tr>\n",
       "    <tr>\n",
       "      <th>2405</th>\n",
       "      <td>2025-08-13 07:29:25</td>\n",
       "      <td>ModernHR</td>\n",
       "      <td>nova.osapi_compute.wsgi.server [req-96c3ec98-2...</td>\n",
       "      <td>HTTP Status</td>\n",
       "      <td>bert</td>\n",
       "      <td>0</td>\n",
       "      <td>None</td>\n",
       "    </tr>\n",
       "    <tr>\n",
       "      <th>2406</th>\n",
       "      <td>1/11/2025 5:32</td>\n",
       "      <td>ModernHR</td>\n",
       "      <td>User 3844 account experienced multiple failed ...</td>\n",
       "      <td>Security Alert</td>\n",
       "      <td>bert</td>\n",
       "      <td>7</td>\n",
       "      <td>None</td>\n",
       "    </tr>\n",
       "    <tr>\n",
       "      <th>2407</th>\n",
       "      <td>2025-08-03 03:07:47</td>\n",
       "      <td>ThirdPartyAPI</td>\n",
       "      <td>nova.metadata.wsgi.server [req-b6d4a270-accb-4...</td>\n",
       "      <td>HTTP Status</td>\n",
       "      <td>bert</td>\n",
       "      <td>0</td>\n",
       "      <td>None</td>\n",
       "    </tr>\n",
       "    <tr>\n",
       "      <th>2408</th>\n",
       "      <td>11/11/2025 11:52</td>\n",
       "      <td>BillingSystem</td>\n",
       "      <td>Email service affected by failed transmission</td>\n",
       "      <td>Critical Error</td>\n",
       "      <td>bert</td>\n",
       "      <td>1</td>\n",
       "      <td>None</td>\n",
       "    </tr>\n",
       "    <tr>\n",
       "      <th>2409</th>\n",
       "      <td>12/25/2025 13:21</td>\n",
       "      <td>AnalyticsEngine</td>\n",
       "      <td>Repeated failed login attempts occurred for us...</td>\n",
       "      <td>Security Alert</td>\n",
       "      <td>bert</td>\n",
       "      <td>7</td>\n",
       "      <td>None</td>\n",
       "    </tr>\n",
       "  </tbody>\n",
       "</table>\n",
       "<p>1910 rows × 7 columns</p>\n",
       "</div>"
      ]
     },
     "execution_count": 36,
     "metadata": {},
     "output_type": "execute_result"
    }
   ],
   "execution_count": 36
  },
  {
   "metadata": {
    "ExecuteTime": {
     "end_time": "2025-07-26T15:58:04.625200Z",
     "start_time": "2025-07-26T15:58:04.615009Z"
    }
   },
   "cell_type": "code",
   "source": [
    "df_non_legacy = df_non_regex[df_non_regex.source != 'LegacyCRM']\n",
    "df_non_legacy.source.unique()"
   ],
   "id": "d52b36631365d54a",
   "outputs": [
    {
     "data": {
      "text/plain": [
       "array(['ModernCRM', 'AnalyticsEngine', 'ModernHR', 'BillingSystem',\n",
       "       'ThirdPartyAPI'], dtype=object)"
      ]
     },
     "execution_count": 37,
     "metadata": {},
     "output_type": "execute_result"
    }
   ],
   "execution_count": 37
  },
  {
   "metadata": {
    "ExecuteTime": {
     "end_time": "2025-07-26T16:43:27.642902Z",
     "start_time": "2025-07-26T16:43:20.875070Z"
    }
   },
   "cell_type": "code",
   "source": [
    "model = SentenceTransformer('all-MiniLM-L6-v2')  # Lightweight embedding model\n",
    "embeddings_filtered = model.encode(df_non_legacy['log_message'].tolist())"
   ],
   "id": "e89be8bd385dd07",
   "outputs": [
    {
     "name": "stderr",
     "output_type": "stream",
     "text": [
      "/Users/tanmaysonje/Library/Python/3.9/lib/python/site-packages/torch/nn/modules/module.py:1750: FutureWarning: `encoder_attention_mask` is deprecated and will be removed in version 4.55.0 for `BertSdpaSelfAttention.forward`.\n",
      "  return forward_call(*args, **kwargs)\n"
     ]
    }
   ],
   "execution_count": 38
  },
  {
   "metadata": {
    "ExecuteTime": {
     "end_time": "2025-07-26T16:43:28.412282Z",
     "start_time": "2025-07-26T16:43:28.402377Z"
    }
   },
   "cell_type": "code",
   "source": "embeddings_filtered [:2]",
   "id": "9230b8afdc10d4fa",
   "outputs": [
    {
     "data": {
      "text/plain": [
       "array([[-1.02939688e-01,  3.35459262e-02, -2.20260918e-02,\n",
       "         1.55102904e-03, -9.86917783e-03, -1.78956300e-01,\n",
       "        -6.34411201e-02, -6.01762310e-02,  2.81108115e-02,\n",
       "         5.99619411e-02, -1.72618870e-02,  1.43362861e-03,\n",
       "        -1.49560049e-01,  3.15283053e-03, -5.66030852e-02,\n",
       "         2.71686148e-02, -1.49889803e-02, -3.54038328e-02,\n",
       "        -3.62936668e-02, -1.45410225e-02, -5.61493263e-03,\n",
       "         8.75538811e-02,  4.55120802e-02,  2.50964183e-02,\n",
       "         1.00187277e-02,  1.24267265e-02, -1.39923543e-01,\n",
       "         7.68695995e-02,  3.14095393e-02, -4.15258110e-03,\n",
       "         4.36902530e-02,  1.71250496e-02, -8.00951049e-02,\n",
       "         5.74006364e-02,  1.89091433e-02,  8.55261609e-02,\n",
       "         3.96398865e-02, -1.34371847e-01, -1.44367036e-03,\n",
       "         3.06705292e-03,  1.76854119e-01,  4.44880361e-03,\n",
       "        -1.69275235e-02,  2.24266239e-02, -4.35049795e-02,\n",
       "         6.09030388e-03, -9.98167787e-03, -6.23972192e-02,\n",
       "         1.07372170e-02, -6.04897738e-03, -7.14660734e-02,\n",
       "        -8.45809188e-03, -3.18019725e-02, -1.00518346e-01,\n",
       "         2.25895288e-04, -1.89340673e-02, -3.17794420e-02,\n",
       "         4.00860608e-02,  2.19177790e-02, -2.59528179e-02,\n",
       "         5.84524982e-02, -8.12509283e-02,  2.12028585e-02,\n",
       "        -5.02687544e-02,  1.32057751e-02,  1.32676645e-03,\n",
       "         2.27063410e-02, -3.45793739e-02,  3.91547084e-02,\n",
       "        -2.09433399e-02,  3.24818352e-03,  4.43960801e-02,\n",
       "        -9.85357612e-02, -2.88894419e-02, -6.85031852e-03,\n",
       "         5.38819209e-02,  6.46110401e-02, -2.45060083e-02,\n",
       "         9.21828896e-02, -7.49869421e-02,  1.23995375e-02,\n",
       "        -1.00026608e-01, -4.64910343e-02,  6.01570420e-02,\n",
       "        -2.46480741e-02, -7.08075911e-02, -2.77269799e-02,\n",
       "         9.72611383e-02,  3.85841317e-02, -1.44292796e-02,\n",
       "        -7.46873149e-04, -1.04304999e-02, -1.61843169e-02,\n",
       "         4.43627834e-02,  9.25996061e-03,  7.14165494e-02,\n",
       "         6.37917221e-02,  4.94930781e-02, -6.02567494e-02,\n",
       "         4.04806137e-02, -3.42860073e-02, -1.93880945e-02,\n",
       "         6.61234111e-02,  6.01589456e-02,  1.09370770e-02,\n",
       "        -5.38625615e-03,  1.44580184e-02,  9.25430357e-02,\n",
       "        -3.14563699e-02, -1.84350684e-02,  9.91883315e-03,\n",
       "        -1.85575001e-02,  1.31285936e-03,  2.26608499e-05,\n",
       "         2.02734652e-03,  2.75256485e-02, -4.81928103e-02,\n",
       "         5.42825609e-02, -7.32067004e-02,  4.88667823e-02,\n",
       "         4.98490706e-02, -9.01138131e-03, -4.68905643e-02,\n",
       "        -4.25886884e-02, -8.19523633e-02,  3.87106650e-02,\n",
       "         7.85503313e-02,  1.46077096e-32,  1.66706778e-02,\n",
       "         5.25494441e-02, -1.82450190e-02, -1.26686674e-02,\n",
       "         6.52837232e-02, -2.11777538e-02, -4.06322852e-02,\n",
       "         4.14948165e-02, -2.48361975e-02, -1.33068105e-02,\n",
       "        -5.46753593e-02, -5.99124993e-04, -4.89251455e-03,\n",
       "        -6.27359599e-02, -3.84878106e-02, -6.13543838e-02,\n",
       "         8.27405155e-02,  2.34380774e-02, -8.63090437e-03,\n",
       "         1.31002683e-02,  6.44214824e-02, -4.41361330e-02,\n",
       "        -6.98634163e-02, -7.36060366e-02, -4.33264337e-02,\n",
       "         6.96528843e-03, -5.05956560e-02, -1.60912313e-02,\n",
       "        -5.66793866e-02,  3.35457851e-03,  5.34115583e-02,\n",
       "         2.47761216e-02, -1.47986403e-02, -2.93242745e-02,\n",
       "         7.30229244e-02, -1.86833423e-02,  8.13136622e-02,\n",
       "        -2.69967876e-02, -5.68055660e-02, -6.59388080e-02,\n",
       "        -5.95393125e-03,  2.85313111e-02, -7.85358623e-02,\n",
       "        -2.76700081e-03, -3.26478248e-03, -9.28333327e-02,\n",
       "        -7.27363750e-02, -3.31903882e-02,  1.01411127e-01,\n",
       "         9.79881361e-02, -9.78740230e-02,  1.98667850e-02,\n",
       "         2.38836855e-02, -1.81673076e-02, -3.73708457e-02,\n",
       "         1.96558028e-03,  6.34425879e-02,  1.18270610e-02,\n",
       "        -1.12041496e-02, -3.87315862e-02,  9.32423770e-02,\n",
       "         4.26630722e-03, -1.66873150e-02, -6.87464848e-02,\n",
       "         1.55118657e-02, -4.97754849e-02,  3.34492289e-02,\n",
       "         8.00032318e-02,  2.12282483e-02,  1.34581894e-01,\n",
       "        -2.30729934e-02,  5.53858876e-02,  3.07558291e-02,\n",
       "        -2.93905381e-02,  2.31905431e-02, -9.34307352e-02,\n",
       "         7.58035332e-02, -5.21203782e-03, -5.14523238e-02,\n",
       "         3.32689770e-02,  3.67963910e-02, -1.06451120e-02,\n",
       "         1.01635726e-02, -2.07651202e-02, -5.85519150e-02,\n",
       "         4.79328185e-02,  2.13694591e-02,  8.76213163e-02,\n",
       "         3.35483323e-03, -3.80336270e-02, -1.81205664e-02,\n",
       "         6.87441183e-03,  5.15879542e-02, -4.75599095e-02,\n",
       "        -6.12065382e-02, -1.45483633e-32,  4.12802584e-03,\n",
       "         4.59642615e-03, -5.63900881e-02,  4.32485295e-03,\n",
       "        -1.09442289e-03,  9.31958295e-03, -2.20268760e-02,\n",
       "         5.79565242e-02, -1.44787729e-02,  4.64156792e-02,\n",
       "         1.43542856e-01, -6.89756572e-02,  6.09631203e-02,\n",
       "        -8.93743858e-02,  2.40919255e-02,  2.06010155e-02,\n",
       "        -2.82415524e-02, -6.48316294e-02,  5.64795025e-02,\n",
       "        -7.48334918e-03, -3.52058299e-02,  8.51059705e-02,\n",
       "         1.30359596e-02,  2.02257782e-02, -1.44390287e-02,\n",
       "        -4.63718474e-02,  1.77210104e-02,  1.59105416e-02,\n",
       "        -9.51009169e-02, -3.54527906e-02,  2.08696071e-02,\n",
       "         3.84379132e-03, -8.77918079e-02,  6.44574389e-02,\n",
       "         1.44170560e-02,  3.84737109e-03,  4.70991544e-02,\n",
       "         4.94662076e-02,  1.53862424e-02, -2.59578656e-02,\n",
       "         9.10895243e-02,  1.83307845e-02, -5.89206927e-02,\n",
       "         2.51992792e-02, -3.30374427e-02,  8.23344737e-02,\n",
       "         1.74791384e-02,  6.48047328e-02, -1.19674206e-02,\n",
       "        -3.31778377e-02,  3.00177597e-02,  3.54221053e-02,\n",
       "        -1.39623787e-02,  6.69272766e-02,  3.87919657e-02,\n",
       "         6.06916472e-02,  1.17961108e-03, -2.38786526e-02,\n",
       "        -1.26930490e-01,  1.13847153e-02,  1.59290358e-02,\n",
       "        -1.29426885e-02, -8.63247886e-02,  8.53657909e-03,\n",
       "         6.03761598e-02,  1.51121877e-02, -1.19132318e-01,\n",
       "         1.15234414e-02,  5.97089380e-02, -3.93345505e-02,\n",
       "         1.55674405e-02,  1.04602426e-02, -4.72457297e-02,\n",
       "        -2.59243660e-02,  9.98528022e-03,  3.07146255e-02,\n",
       "        -7.14844018e-02,  6.98963692e-03, -1.55133354e-02,\n",
       "         2.18864232e-02, -2.78145894e-02,  6.92733526e-02,\n",
       "        -2.75903773e-02,  2.62429006e-02,  3.52562852e-02,\n",
       "        -4.26418409e-02,  7.46358884e-04,  6.59867004e-02,\n",
       "        -5.15104942e-02, -3.58433574e-02, -6.53446885e-03,\n",
       "        -2.75858250e-02, -1.00125678e-01,  7.83325136e-02,\n",
       "        -1.45799918e-02, -6.18457392e-08,  2.00325884e-02,\n",
       "         6.59785271e-02, -2.04702970e-02,  1.64044704e-02,\n",
       "         7.63001293e-02,  7.32182711e-02,  5.65790571e-03,\n",
       "        -6.97693962e-04, -3.63798416e-03,  6.02394454e-02,\n",
       "        -3.27187069e-02, -6.45837635e-02, -5.97953126e-02,\n",
       "        -1.76695921e-02,  6.10147370e-03, -5.63488249e-03,\n",
       "        -1.22972213e-01,  6.35818243e-02, -2.19432395e-02,\n",
       "        -1.16406612e-01,  2.34365389e-02, -7.23524317e-02,\n",
       "         2.31773928e-02, -6.55987784e-02, -7.42682517e-02,\n",
       "         2.60146298e-02,  3.59757915e-02,  7.68433362e-02,\n",
       "        -3.08056921e-02, -2.34793779e-02, -6.30426034e-02,\n",
       "        -3.62158082e-02, -1.03560295e-02, -4.75603230e-02,\n",
       "        -2.87522208e-02,  2.96400357e-02, -5.26904315e-03,\n",
       "         5.67890070e-02, -3.74486623e-03,  3.09612527e-02,\n",
       "         3.48227508e-02,  3.78607847e-02,  2.10155863e-02,\n",
       "         2.70691738e-02,  5.25520742e-02,  7.16229826e-02,\n",
       "        -5.53760119e-03,  4.01093513e-02,  5.16276211e-02,\n",
       "        -2.67314762e-02,  5.94224520e-02, -4.29224335e-02,\n",
       "        -1.19761182e-02,  3.05986013e-02, -7.40331486e-02,\n",
       "         1.84221715e-02, -8.64859764e-03, -8.83558840e-02,\n",
       "        -5.91984540e-02, -1.00899386e-04,  1.12913646e-01,\n",
       "         4.57784254e-03, -4.25972156e-02,  3.22624086e-03],\n",
       "       [ 8.04571994e-03, -3.57392542e-02,  4.93873917e-02,\n",
       "        -7.19192950e-03,  6.17629325e-04, -9.05684829e-02,\n",
       "         5.75594753e-02, -4.39445488e-02,  1.74751319e-02,\n",
       "         5.21202758e-02, -4.62332480e-02,  2.49039251e-02,\n",
       "         4.80810925e-02,  6.86636418e-02,  3.56147662e-02,\n",
       "         3.00089102e-02,  2.61450503e-02, -9.05242264e-02,\n",
       "        -8.02173242e-02,  5.04851490e-02, -7.90870786e-02,\n",
       "        -1.76852627e-03, -2.48926803e-02,  9.02153179e-02,\n",
       "         5.83693292e-03, -6.91071451e-02, -6.67965412e-02,\n",
       "        -6.99112192e-03, -1.04566082e-01, -2.66474262e-02,\n",
       "         3.05640642e-02,  2.02934481e-02,  2.25454215e-02,\n",
       "        -4.22679447e-03,  1.11173028e-02,  6.78260550e-02,\n",
       "         1.06073385e-02,  7.56636336e-02, -8.22777823e-02,\n",
       "         8.45733378e-03, -6.97611347e-02, -4.21974584e-02,\n",
       "        -1.05675412e-02,  2.23673452e-02,  5.64497001e-02,\n",
       "         8.16499256e-03,  1.09344065e-01,  3.16565074e-02,\n",
       "        -1.76924299e-02, -3.21071520e-02, -3.39975841e-02,\n",
       "        -4.91813000e-04,  3.72880395e-03,  2.83772312e-02,\n",
       "        -1.28520895e-02, -1.07927469e-03, -6.32418618e-02,\n",
       "         6.89901263e-02,  1.77269932e-02, -5.20959161e-02,\n",
       "         8.28308892e-03,  5.45032285e-02, -5.42099327e-02,\n",
       "        -4.53333072e-02, -4.07494493e-02, -2.82698348e-02,\n",
       "         1.23605505e-02, -2.13815793e-02, -2.36266255e-02,\n",
       "         1.25317983e-02, -2.37171166e-02,  3.97410952e-02,\n",
       "        -1.24362186e-01,  7.60625750e-02,  5.50833195e-02,\n",
       "         8.28217044e-02,  2.97119077e-02, -1.84067637e-02,\n",
       "        -1.96194537e-02,  5.54319620e-02, -3.49144265e-02,\n",
       "        -4.14676815e-02, -3.37047614e-02,  7.31324404e-02,\n",
       "         4.41836528e-02,  2.55245939e-02, -8.26400984e-03,\n",
       "        -1.07323406e-02, -4.26243879e-02, -2.84965476e-03,\n",
       "         7.38559514e-02,  2.27768086e-02,  7.15367612e-04,\n",
       "         4.36012745e-02,  5.09080030e-02,  6.38482496e-02,\n",
       "        -2.73155998e-02, -6.55021593e-02, -7.69265592e-02,\n",
       "         3.55170891e-02,  9.60494429e-02,  2.18195915e-02,\n",
       "         1.20154908e-02, -1.17863696e-02, -4.57932334e-03,\n",
       "        -8.58034752e-03,  3.37150358e-02,  2.31918674e-02,\n",
       "        -7.58325383e-02, -5.23879118e-02,  4.53933999e-02,\n",
       "        -3.80786248e-02, -3.34904678e-02,  9.20352563e-02,\n",
       "         2.87688952e-02, -3.33817787e-02, -1.95853855e-03,\n",
       "        -3.04534362e-04, -1.70498751e-02,  2.85336021e-02,\n",
       "        -8.81096050e-02, -4.02252860e-02, -4.00093235e-02,\n",
       "        -1.03192739e-02, -2.51968149e-02,  2.14092955e-02,\n",
       "         1.31045207e-01, -5.29633077e-34, -1.09651722e-01,\n",
       "         1.29812025e-02,  5.92660950e-03,  4.73506637e-02,\n",
       "        -8.60300194e-03, -3.67089808e-02,  3.05214617e-02,\n",
       "         5.53066842e-02, -4.71985228e-02, -1.25118867e-02,\n",
       "        -1.15366474e-01,  9.08005517e-03,  1.07346527e-01,\n",
       "        -4.94735315e-02, -1.34290420e-02, -4.61562350e-02,\n",
       "         2.45319698e-02,  9.45082959e-03,  2.04324201e-02,\n",
       "        -3.99918370e-02, -4.67826277e-02,  2.21171547e-02,\n",
       "        -4.58186828e-02, -8.13272409e-03, -7.65671069e-03,\n",
       "         1.92284100e-02,  4.85844649e-02, -2.55902484e-02,\n",
       "         1.61550636e-03, -1.37180351e-02,  9.67305526e-03,\n",
       "         7.36409053e-03,  1.14087909e-02,  1.28853410e-01,\n",
       "         7.71840569e-03,  7.06362575e-02,  2.54451316e-02,\n",
       "         4.06523943e-02,  2.44039614e-02,  1.43776871e-02,\n",
       "        -6.00932389e-02,  7.38180503e-02, -2.44701672e-02,\n",
       "         8.98901299e-02,  3.17047397e-03,  1.01834506e-01,\n",
       "         4.17741351e-02, -5.95177971e-02, -3.23181674e-02,\n",
       "         3.80939022e-02,  1.21155875e-02, -4.07834537e-02,\n",
       "         2.84823347e-02,  4.90988903e-02, -9.35699604e-03,\n",
       "         6.50074333e-02,  7.23532364e-02, -1.67793278e-02,\n",
       "        -8.22412502e-03, -1.61573607e-02,  5.96225373e-02,\n",
       "        -3.36084254e-02,  2.12107897e-02, -6.06090613e-02,\n",
       "         1.54377654e-01, -7.24146739e-02, -3.77272256e-02,\n",
       "        -3.26889455e-02, -1.80381699e-03, -1.01960441e-02,\n",
       "        -1.60680071e-03, -6.91846311e-02,  8.28444362e-02,\n",
       "         9.88839790e-02,  3.45472060e-03, -9.90247503e-02,\n",
       "        -3.52827199e-02, -7.13179260e-02, -4.96000461e-02,\n",
       "        -3.43954675e-02, -8.13041776e-02,  4.81447913e-02,\n",
       "         5.00682322e-03, -2.21499316e-02, -5.60056679e-02,\n",
       "         1.00067798e-02, -3.59793529e-02,  1.06184334e-01,\n",
       "        -4.54197042e-02,  7.16393441e-02, -2.36773305e-02,\n",
       "         9.98137891e-03,  2.73602270e-02,  1.05985522e-01,\n",
       "         4.60164174e-02,  9.59028444e-34, -1.12306967e-01,\n",
       "         2.78912019e-02, -3.35901305e-02,  5.39242141e-02,\n",
       "        -2.22291034e-02,  1.53769571e-02,  3.10411677e-02,\n",
       "         3.39010619e-02,  7.43166730e-02,  3.42470855e-02,\n",
       "        -3.35058966e-03, -2.05350630e-02, -3.62369828e-02,\n",
       "         2.29334142e-02, -3.01991850e-02, -1.00819923e-01,\n",
       "         3.29193920e-02,  6.77542463e-02,  1.35644833e-02,\n",
       "        -5.20550087e-03, -6.58158660e-02,  9.54550207e-02,\n",
       "        -1.34039009e-02,  1.53884981e-02, -7.22936317e-02,\n",
       "         9.67836455e-02, -8.08119476e-02, -4.53449413e-03,\n",
       "        -6.42010570e-02, -4.99278829e-02,  4.64197062e-02,\n",
       "         2.21340749e-02,  3.13109830e-02,  9.13568884e-02,\n",
       "        -4.61120121e-02, -1.02761060e-01,  3.04416064e-02,\n",
       "         5.09875678e-02,  6.70140535e-02,  1.04042366e-02,\n",
       "         1.63533948e-02,  3.92031260e-02,  2.17154268e-02,\n",
       "         5.36603220e-02,  3.62809449e-02, -4.22140136e-02,\n",
       "        -2.47227009e-02,  1.90311894e-02,  3.61723937e-02,\n",
       "         6.37021586e-02, -3.21581750e-03, -8.50389060e-03,\n",
       "         3.94655839e-02,  9.02652182e-03,  1.93095654e-02,\n",
       "         6.60717636e-02,  1.02694863e-02, -4.43854108e-02,\n",
       "        -1.56522766e-02, -1.55714061e-02,  1.32904192e-02,\n",
       "        -1.16108712e-02,  4.21832204e-02, -5.44776954e-02,\n",
       "         1.29237175e-01, -2.25756988e-02,  5.26203215e-02,\n",
       "        -1.58436801e-02,  9.33164731e-02,  6.38026837e-03,\n",
       "        -9.36168060e-03, -6.08875826e-02, -3.27308103e-02,\n",
       "        -3.44817005e-02,  3.29974070e-02, -4.79391403e-02,\n",
       "        -9.81300995e-02,  2.91165095e-02, -2.70903539e-02,\n",
       "         1.81867089e-02, -1.73860323e-02, -4.40371260e-02,\n",
       "        -7.97002390e-02,  3.01646646e-02, -6.35260493e-02,\n",
       "         1.25963278e-02,  8.50250125e-02, -4.58910502e-02,\n",
       "         5.81017062e-02, -2.71002539e-02,  8.42775479e-02,\n",
       "        -4.09972779e-02, -3.37656215e-02,  1.02088563e-02,\n",
       "        -2.54193041e-02, -1.40610261e-08,  4.94446829e-02,\n",
       "        -9.04356465e-02, -6.06709681e-02,  8.29529613e-02,\n",
       "        -3.29032615e-02,  4.14910652e-02,  9.99591127e-03,\n",
       "         6.96136244e-03,  3.99235962e-03, -3.24333273e-02,\n",
       "        -3.14656496e-02, -5.33161648e-02, -3.80912833e-02,\n",
       "         1.62077285e-02,  2.45779213e-02, -7.26419315e-02,\n",
       "        -6.56893626e-02, -8.23131949e-02, -8.00500438e-02,\n",
       "        -5.36648929e-02,  5.60894981e-02, -1.10912835e-02,\n",
       "         9.62138642e-04, -1.22690298e-01, -5.13836555e-02,\n",
       "         9.96701512e-03,  1.00696143e-02,  1.07073061e-01,\n",
       "         1.19758043e-02,  1.00423368e-02, -6.28261864e-02,\n",
       "        -7.49697089e-02, -6.34075236e-03, -2.72200853e-02,\n",
       "        -1.28096193e-01, -2.62460057e-02, -1.81464646e-02,\n",
       "        -9.85360444e-02, -3.02990265e-02, -4.02614847e-02,\n",
       "         9.94290859e-02,  5.35999984e-02,  2.74899304e-02,\n",
       "        -5.53685380e-03,  8.43570605e-02,  8.35161954e-02,\n",
       "         3.74303907e-02,  7.11937919e-02,  2.98902839e-02,\n",
       "         2.32728682e-02, -3.62112708e-02,  6.20540306e-02,\n",
       "         2.15147827e-02,  5.19732796e-02,  1.45338038e-02,\n",
       "        -4.60966378e-02,  5.02554290e-02, -7.27027580e-02,\n",
       "         2.92778667e-02,  5.62662557e-02, -3.86355333e-02,\n",
       "         1.53831830e-02, -6.23094812e-02, -2.77466755e-02]], dtype=float32)"
      ]
     },
     "execution_count": 39,
     "metadata": {},
     "output_type": "execute_result"
    }
   ],
   "execution_count": 39
  },
  {
   "metadata": {
    "ExecuteTime": {
     "end_time": "2025-07-26T16:45:33.055210Z",
     "start_time": "2025-07-26T16:45:33.052342Z"
    }
   },
   "cell_type": "code",
   "source": [
    "X = embeddings_filtered\n",
    "y = df_non_legacy['target_label'].values"
   ],
   "id": "cfebd8f698fd7703",
   "outputs": [],
   "execution_count": 41
  },
  {
   "metadata": {
    "ExecuteTime": {
     "end_time": "2025-07-26T16:45:38.619394Z",
     "start_time": "2025-07-26T16:45:38.584462Z"
    }
   },
   "cell_type": "code",
   "source": [
    "from sklearn.model_selection import train_test_split\n",
    "from sklearn.linear_model import LogisticRegression\n",
    "from sklearn.metrics import accuracy_score\n",
    "from sklearn.metrics import classification_report\n",
    "\n",
    "X_train, X_test, y_train, y_test = train_test_split(X, y, test_size=0.3, random_state=42)\n",
    "clf = LogisticRegression(max_iter=1000)\n",
    "clf.fit(X_train, y_train)\n",
    "y_pred = clf.predict(X_test)\n",
    "report = classification_report(y_test, y_pred)\n",
    "print(report)"
   ],
   "id": "83bd0eecd4c49362",
   "outputs": [
    {
     "name": "stdout",
     "output_type": "stream",
     "text": [
      "                precision    recall  f1-score   support\n",
      "\n",
      "Critical Error       0.91      1.00      0.95        48\n",
      "         Error       0.98      0.89      0.93        47\n",
      "   HTTP Status       1.00      1.00      1.00       304\n",
      "Resource Usage       1.00      1.00      1.00        49\n",
      "Security Alert       1.00      0.99      1.00       123\n",
      "\n",
      "      accuracy                           0.99       571\n",
      "     macro avg       0.98      0.98      0.98       571\n",
      "  weighted avg       0.99      0.99      0.99       571\n",
      "\n"
     ]
    }
   ],
   "execution_count": 42
  },
  {
   "metadata": {
    "ExecuteTime": {
     "end_time": "2025-07-26T16:54:27.449315Z",
     "start_time": "2025-07-26T16:54:27.440890Z"
    }
   },
   "cell_type": "code",
   "source": [
    "import joblib\n",
    "joblib.dump(clf, '../models/log_classifier.joblib')"
   ],
   "id": "5b0ff95723edc734",
   "outputs": [
    {
     "data": {
      "text/plain": [
       "['models/log_classifier.joblib']"
      ]
     },
     "execution_count": 53,
     "metadata": {},
     "output_type": "execute_result"
    }
   ],
   "execution_count": 53
  },
  {
   "metadata": {
    "ExecuteTime": {
     "end_time": "2025-07-26T16:54:08.690334Z",
     "start_time": "2025-07-26T16:54:08.683917Z"
    }
   },
   "cell_type": "code",
   "source": "",
   "id": "842d214ded3b1e4e",
   "outputs": [
    {
     "data": {
      "text/plain": [
       "['../models/log_classifier.joblib']"
      ]
     },
     "execution_count": 50,
     "metadata": {},
     "output_type": "execute_result"
    }
   ],
   "execution_count": 50
  }
 ],
 "metadata": {
  "kernelspec": {
   "display_name": "Python 3",
   "language": "python",
   "name": "python3"
  },
  "language_info": {
   "codemirror_mode": {
    "name": "ipython",
    "version": 2
   },
   "file_extension": ".py",
   "mimetype": "text/x-python",
   "name": "python",
   "nbconvert_exporter": "python",
   "pygments_lexer": "ipython2",
   "version": "2.7.6"
  }
 },
 "nbformat": 4,
 "nbformat_minor": 5
}
